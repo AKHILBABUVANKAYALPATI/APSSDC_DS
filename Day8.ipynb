{
 "cells": [
  {
   "cell_type": "markdown",
   "metadata": {},
   "source": [
    "# Task 7\n",
    "# Create a function for finding the leap years in the given range"
   ]
  },
  {
   "cell_type": "code",
   "execution_count": 54,
   "metadata": {},
   "outputs": [],
   "source": [
    "def yea():\n",
    "    n=int(input('range'))\n",
    "    end=int(input('end'))\n",
    "    for i in range(1,n+1,1):\n",
    "        if(i%4==0 or i%400==0) and (i%100!=0):\n",
    "            print(i)\n",
    "        \n",
    "yea()"
   ]
  },
  {
   "cell_type": "markdown",
   "metadata": {},
   "source": [
    "# Create a function for getting armstrong numbers within the given range"
   ]
  },
  {
   "cell_type": "code",
   "execution_count": 55,
   "metadata": {},
   "outputs": [],
   "source": [
    "# a=int(input())\n",
    "# for i in range(1,a+1,1):\n",
    "#     digit=i\n",
    "#     su=0\n",
    "#     le=len(str(i))\n",
    "#     while(i!=0):\n",
    "#         x=i%10\n",
    "#         su=su+x**le\n",
    "#         i=i//10\n",
    "#     if(su==digit):\n",
    "#         print(digit)\n",
    "def am():\n",
    "    start=int(input())\n",
    "    end=int(input())\n",
    "    for i in range(start,end+1,1):\n",
    "        digit=i\n",
    "        su=0\n",
    "        le=len(str(i))\n",
    "        while(i!=0):\n",
    "            x=i%10\n",
    "            su=su+x**le\n",
    "            i=i//10\n",
    "        if(su==digit):\n",
    "            print(digit)\n",
    "am()\n",
    "    "
   ]
  },
  {
   "cell_type": "markdown",
   "metadata": {},
   "source": [
    "# create a function for getting the prime numbers within the range"
   ]
  },
  {
   "cell_type": "code",
   "execution_count": 56,
   "metadata": {},
   "outputs": [
    {
     "name": "stdout",
     "output_type": "stream",
     "text": [
      "4\n",
      "100\n",
      "5\n",
      "7\n",
      "11\n",
      "13\n",
      "17\n",
      "19\n",
      "23\n",
      "29\n",
      "31\n",
      "37\n",
      "41\n",
      "43\n",
      "47\n",
      "53\n",
      "59\n",
      "61\n",
      "67\n",
      "71\n",
      "73\n",
      "79\n",
      "83\n",
      "89\n",
      "97\n"
     ]
    }
   ],
   "source": [
    "\n",
    "# n=int(input())\n",
    "# count=0\n",
    "# for i in range(1,n+1,1):\n",
    "#     if(n%i==0):\n",
    "#         count=count+1\n",
    "# if(count==2):\n",
    "#     print('yes')\n",
    "\n",
    "# p=int(input())\n",
    "# for i in range(1,p+1,1):\n",
    "#     count=0\n",
    "#     for j in range(1,i+1,1):\n",
    "#         if(i%j==0):\n",
    "#             count=count+1\n",
    "#     if(count==2):\n",
    "#         print(j)\n",
    "\n",
    "\n",
    "def p():\n",
    "    n=int(input())\n",
    "    o=int(input())\n",
    "    for i in range(n,o+1,1):\n",
    "        count=0\n",
    "        for j in range(1,i+1,1):\n",
    "            if(i%j==0):\n",
    "                count=count+1\n",
    "        if(count==2):\n",
    "            print(i)\n",
    "p()\n",
    "        "
   ]
  },
  {
   "cell_type": "markdown",
   "metadata": {},
   "source": [
    "# Create a function for finding the count of elements in a string"
   ]
  },
  {
   "cell_type": "code",
   "execution_count": 64,
   "metadata": {},
   "outputs": [
    {
     "name": "stdout",
     "output_type": "stream",
     "text": [
      "akhil\n",
      "5\n"
     ]
    }
   ],
   "source": [
    "# def cou():\n",
    "#     z=input()\n",
    "#     o=len(z)\n",
    "#     return o\n",
    "# cou()\n",
    "\n",
    "def co():\n",
    "    x=input()\n",
    "    count=0\n",
    "    for i in x:\n",
    "        count=count+1\n",
    "    print(count)\n",
    "co()"
   ]
  },
  {
   "cell_type": "code",
   "execution_count": null,
   "metadata": {},
   "outputs": [],
   "source": []
  },
  {
   "cell_type": "code",
   "execution_count": null,
   "metadata": {},
   "outputs": [],
   "source": []
  },
  {
   "cell_type": "code",
   "execution_count": null,
   "metadata": {},
   "outputs": [],
   "source": []
  },
  {
   "cell_type": "code",
   "execution_count": null,
   "metadata": {},
   "outputs": [],
   "source": []
  }
 ],
 "metadata": {
  "kernelspec": {
   "display_name": "Python 3",
   "language": "python",
   "name": "python3"
  },
  "language_info": {
   "codemirror_mode": {
    "name": "ipython",
    "version": 3
   },
   "file_extension": ".py",
   "mimetype": "text/x-python",
   "name": "python",
   "nbconvert_exporter": "python",
   "pygments_lexer": "ipython3",
   "version": "3.8.5"
  }
 },
 "nbformat": 4,
 "nbformat_minor": 4
}
