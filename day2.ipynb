{
 "cells": [
  {
   "cell_type": "markdown",
   "metadata": {},
   "source": [
    "# Write a program to check wheather the user eligible for vote or not"
   ]
  },
  {
   "cell_type": "code",
   "execution_count": null,
   "metadata": {},
   "outputs": [],
   "source": [
    "age=int(input('enter age'))\n",
    "if(age>18):\n",
    "    print('eligible')\n",
    "else:\n",
    "    print('not eligible')"
   ]
  },
  {
   "cell_type": "markdown",
   "metadata": {},
   "source": [
    "\n",
    "# Check the given number is positive or negative\n"
   ]
  },
  {
   "cell_type": "code",
   "execution_count": null,
   "metadata": {},
   "outputs": [],
   "source": [
    "number=int(input('enter number'))\n",
    "if (number>0):\n",
    "    print('Positive')\n",
    "else:\n",
    "    print('Negative')\n",
    "    "
   ]
  },
  {
   "cell_type": "markdown",
   "metadata": {},
   "source": [
    "# check the given number is even or odd if it's even check which is divisible by 4 or not\n"
   ]
  },
  {
   "cell_type": "code",
   "execution_count": null,
   "metadata": {},
   "outputs": [],
   "source": [
    "number=int(input())\n",
    "if(number%2==0):\n",
    "    if(number%4==0):\n",
    "        print('It is even and divisible by 4')\n",
    "    else:\n",
    "        print('even number but not divisible by 4')\n",
    "elif(number%2!=0):\n",
    "    print('odd number')\n"
   ]
  },
  {
   "cell_type": "markdown",
   "metadata": {},
   "source": [
    "# write a program to print student grade based on percentage like Distinction,pass or fail\n"
   ]
  },
  {
   "cell_type": "code",
   "execution_count": null,
   "metadata": {},
   "outputs": [],
   "source": [
    "maths=float(input())\n",
    "physics=float(input())\n",
    "englis=float(input())\n",
    "if(maths<=100 and physics<=100 and englis<=100):\n",
    "    total=maths+physics+englis\n",
    "    perce=total*100/300\n",
    "    if(perce>=80):\n",
    "        print('Distinction grade=',perce)\n",
    "    elif (perce>50 and perce<80):\n",
    "        print('pass')\n",
    "    else:\n",
    "        print('fail')\n",
    "else:\n",
    "    print('enter correct')\n"
   ]
  },
  {
   "cell_type": "markdown",
   "metadata": {},
   "source": [
    "# Check the given year is Leap or not\n"
   ]
  },
  {
   "cell_type": "code",
   "execution_count": 3,
   "metadata": {},
   "outputs": [
    {
     "name": "stdout",
     "output_type": "stream",
     "text": [
      "enter year2000\n",
      "leap year\n"
     ]
    }
   ],
   "source": [
    "year=int(input('enter year'))\n",
    "if (( year%400 == 0)or (( year%4 == 0 ) and ( year%100 != 0))):\n",
    "    print('leap year')\n",
    "else:\n",
    "    print('not a leap year')"
   ]
  },
  {
   "cell_type": "code",
   "execution_count": null,
   "metadata": {},
   "outputs": [],
   "source": []
  }
 ],
 "metadata": {
  "kernelspec": {
   "display_name": "Python 3",
   "language": "python",
   "name": "python3"
  },
  "language_info": {
   "codemirror_mode": {
    "name": "ipython",
    "version": 3
   },
   "file_extension": ".py",
   "mimetype": "text/x-python",
   "name": "python",
   "nbconvert_exporter": "python",
   "pygments_lexer": "ipython3",
   "version": "3.8.5"
  }
 },
 "nbformat": 4,
 "nbformat_minor": 4
}
