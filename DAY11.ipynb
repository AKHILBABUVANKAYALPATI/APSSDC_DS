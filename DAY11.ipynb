{
 "cells": [
  {
   "cell_type": "code",
   "execution_count": 1,
   "metadata": {},
   "outputs": [],
   "source": [
    "f = open('file1.txt', 'w')\n",
    "f.write(\"line1 \\nline2 \\nline3 \\nline4 \\nline5 \\nline6 \\nline7 \\nline8 \\nline9 \\nline10\")\n",
    "f.close()"
   ]
  },
  {
   "cell_type": "code",
   "execution_count": 2,
   "metadata": {},
   "outputs": [
    {
     "name": "stdout",
     "output_type": "stream",
     "text": [
      "Enter the no. of lines to read 7\n",
      "line4 \n",
      "\n",
      "line5 \n",
      "\n",
      "line6 \n",
      "\n",
      "line7 \n",
      "\n",
      "line8 \n",
      "\n",
      "line9 \n",
      "\n",
      "line10\n"
     ]
    }
   ],
   "source": [
    "f = open('file1.txt', 'r')\n",
    "n = int(input(\"Enter the no. of lines to read \"))\n",
    "for i in f.readlines()[-n:]:\n",
    "    print(i)"
   ]
  },
  {
   "cell_type": "code",
   "execution_count": 4,
   "metadata": {},
   "outputs": [],
   "source": [
    "# Task 2 - Create a function for appending data into a file\n",
    "def append_data(name, data):\n",
    "    with open(name, 'a+') as f:\n",
    "        f.write(\"\\n\" + data)\n",
    "        f.close()\n",
    "    with open(name, 'r') as f:\n",
    "        print(f.read())\n",
    "        \n",
    "name = input(\"Enter name of the file \")\n",
    "data = input(\"Enter data to append to the file \")\n",
    "append_data(name, data)"
   ]
  },
  {
   "cell_type": "code",
   "execution_count": 6,
   "metadata": {},
   "outputs": [],
   "source": [
    "# Task 3 - Create a program for updating a word in the file\n",
    "import re\n",
    "data1 = input('Enter data to be replaced ')\n",
    "data2 = input('Enter data to replace existing one ')\n",
    "name = input(\"Enter the name of file \")\n",
    "with open(name, 'r+') as f:\n",
    "    data = f.read()\n",
    "    data = re.sub(data1, data2, data)\n",
    "    f.seek(0)\n",
    "    f.write(data)\n",
    "    f.close()"
   ]
  },
  {
   "cell_type": "code",
   "execution_count": 7,
   "metadata": {},
   "outputs": [
    {
     "name": "stdout",
     "output_type": "stream",
     "text": [
      "line1 \n",
      "line2 \n",
      "line3 \n",
      "line4 \n",
      "line5 \n",
      "line6 \n",
      "line7 \n",
      "line8 \n",
      "line9 \n",
      "line10\n"
     ]
    }
   ],
   "source": [
    "f = open('file1.txt', 'r')\n",
    "print(f.read())"
   ]
  },
  {
   "cell_type": "code",
   "execution_count": null,
   "metadata": {},
   "outputs": [],
   "source": []
  }
 ],
 "metadata": {
  "kernelspec": {
   "display_name": "Python 3",
   "language": "python",
   "name": "python3"
  },
  "language_info": {
   "codemirror_mode": {
    "name": "ipython",
    "version": 3
   },
   "file_extension": ".py",
   "mimetype": "text/x-python",
   "name": "python",
   "nbconvert_exporter": "python",
   "pygments_lexer": "ipython3",
   "version": "3.8.5"
  }
 },
 "nbformat": 4,
 "nbformat_minor": 4
}
